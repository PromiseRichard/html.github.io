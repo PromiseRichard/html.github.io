{
 "cells": [
  {
   "cell_type": "code",
   "execution_count": 13,
   "id": "9b2390cc",
   "metadata": {},
   "outputs": [
    {
     "name": "stdout",
     "output_type": "stream",
     "text": [
      "cart initialized\n",
      "entry modulefood\n",
      "['food']\n"
     ]
    },
    {
     "ename": "SyntaxError",
     "evalue": "'return' outside function (215026959.py, line 6)",
     "output_type": "error",
     "traceback": [
      "\u001b[1;36m  Cell \u001b[1;32mIn[13], line 6\u001b[1;36m\u001b[0m\n\u001b[1;33m    return x\u001b[0m\n\u001b[1;37m    ^\u001b[0m\n\u001b[1;31mSyntaxError\u001b[0m\u001b[1;31m:\u001b[0m 'return' outside function\n"
     ]
    }
   ],
   "source": [
    "item=[]\n",
    "print(\"cart initialized\")\n",
    "x=input(\"entry module\")\n",
    "item.append(x.lower())\n",
    "print(item)\n",
    "return x\n",
    "def addProduct(val,lst):\n",
    "    lst.append(val)\n",
    "    return lst\n",
    "def display(lst):\n",
    "    print(\"showing products\")\n",
    "    addAnother()\n",
    "    def addAnother():\n",
    "        x=input(\"Add another Y or exist N\")\n",
    "        if x ==\"Y\":\n",
    "         print(\"Adding another ...\")\n",
    "        x = enterp()\n",
    "        r= addProduct(x,products)\n",
    "        display(r)\n",
    "         \n",
    "y=input(\"Enter item to search\")\n",
    "z=y.lower()\n",
    "if item.count(z):\n",
    "    print(\"item was found\",item.count(z))\n",
    "else:\n",
    "    print(\"item was not found\")\n"
   ]
  },
  {
   "cell_type": "code",
   "execution_count": null,
   "id": "48e4caf5",
   "metadata": {},
   "outputs": [],
   "source": []
  },
  {
   "cell_type": "code",
   "execution_count": null,
   "id": "9bac72e2",
   "metadata": {},
   "outputs": [],
   "source": []
  }
 ],
 "metadata": {
  "kernelspec": {
   "display_name": "Python 3 (ipykernel)",
   "language": "python",
   "name": "python3"
  },
  "language_info": {
   "codemirror_mode": {
    "name": "ipython",
    "version": 3
   },
   "file_extension": ".py",
   "mimetype": "text/x-python",
   "name": "python",
   "nbconvert_exporter": "python",
   "pygments_lexer": "ipython3",
   "version": "3.11.1"
  }
 },
 "nbformat": 4,
 "nbformat_minor": 5
}
