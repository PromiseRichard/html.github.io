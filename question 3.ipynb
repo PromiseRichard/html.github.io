{
 "cells": [
  {
   "cell_type": "code",
   "execution_count": 21,
   "id": "243fdb8c",
   "metadata": {},
   "outputs": [
    {
     "name": "stdout",
     "output_type": "stream",
     "text": [
      "(['old boy', 'simple', 'attenuate', 'shy ones', 'toxic things', 'silient words', 'big daddy', 'juvenile', 'mothers love', 'thefoxes', 'it today'], ['the living light', 'nigeria election'], ['happy', 'brave'])\n"
     ]
    }
   ],
   "source": [
    "data = [\"the living light\", \"happy\", \"brave\", \"old boy\", \"simple\",\"attenuate\",\"shy ones\", \"toxic things\", \"silient words\", \"big daddy\",\"juvenile\", \"mothers love\", \"thefoxes\", \"nigeria election\", \"it today\"]\n",
    "def main(data):\n",
    "    less15_greater5 =[]\n",
    "    greater_than15 = []\n",
    "    not_fit = []\n",
    "    \n",
    "    for string in data:\n",
    "        p = len(string)>5\n",
    "        y = len(string)<15\n",
    "        z = len(string)>15\n",
    "        if p and y:\n",
    "            less15_greater5.append(string)\n",
    "        elif z:\n",
    "            greater_than15.append(string)\n",
    "        else:\n",
    "            not_fit.append(string)\n",
    "    return less15_greater5, greater_than15, not_fit\n",
    "q=main(data) \n",
    "print(q)"
   ]
  },
  {
   "cell_type": "code",
   "execution_count": null,
   "id": "a7fb5bd1",
   "metadata": {},
   "outputs": [],
   "source": []
  },
  {
   "cell_type": "code",
   "execution_count": null,
   "id": "28dc2c0e",
   "metadata": {},
   "outputs": [],
   "source": []
  }
 ],
 "metadata": {
  "kernelspec": {
   "display_name": "Python 3 (ipykernel)",
   "language": "python",
   "name": "python3"
  },
  "language_info": {
   "codemirror_mode": {
    "name": "ipython",
    "version": 3
   },
   "file_extension": ".py",
   "mimetype": "text/x-python",
   "name": "python",
   "nbconvert_exporter": "python",
   "pygments_lexer": "ipython3",
   "version": "3.11.1"
  }
 },
 "nbformat": 4,
 "nbformat_minor": 5
}
