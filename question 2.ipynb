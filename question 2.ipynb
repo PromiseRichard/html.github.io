{
 "cells": [
  {
   "cell_type": "code",
   "execution_count": null,
   "id": "d5a41218",
   "metadata": {},
   "outputs": [],
   "source": [
    "# average speed = distance covered/ time taken    \n",
    "p = input(\"enter kilometer: \")\n",
    "print(p, \"km\")\n",
    "q = input (\"enter total time: \")\n",
    "print(q, \"hours\")\n",
    "speed_covered = float(d)/float(c)\n",
    "print(\"the average speed is :\", speed_covered, \"km/hr\")\n",
    "liters = input(\"enter amount of fuel used: \")\n",
    "stoppage = input(\"stoppage made:\")\n",
    "avreage = float(liters)/ float(stoppage)\n",
    "print(avreage, \"liters was used for each trip\")\n",
    "\n"
   ]
  },
  {
   "cell_type": "code",
   "execution_count": null,
   "id": "50f721cb",
   "metadata": {},
   "outputs": [],
   "source": []
  },
  {
   "cell_type": "code",
   "execution_count": null,
   "id": "76426a45",
   "metadata": {},
   "outputs": [],
   "source": []
  }
 ],
 "metadata": {
  "kernelspec": {
   "display_name": "Python 3 (ipykernel)",
   "language": "python",
   "name": "python3"
  },
  "language_info": {
   "codemirror_mode": {
    "name": "ipython",
    "version": 3
   },
   "file_extension": ".py",
   "mimetype": "text/x-python",
   "name": "python",
   "nbconvert_exporter": "python",
   "pygments_lexer": "ipython3",
   "version": "3.11.1"
  }
 },
 "nbformat": 4,
 "nbformat_minor": 5
}
